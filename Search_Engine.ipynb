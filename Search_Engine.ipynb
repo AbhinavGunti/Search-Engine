{
 "cells": [
  {
   "cell_type": "markdown",
   "metadata": {},
   "source": [
    "### Converting csv to txt"
   ]
  },
  {
   "cell_type": "code",
   "execution_count": 432,
   "metadata": {},
   "outputs": [
    {
     "name": "stderr",
     "output_type": "stream",
     "text": [
      "IOPub data rate exceeded.\n",
      "The notebook server will temporarily stop sending output\n",
      "to the client in order to avoid crashing it.\n",
      "To change this limit, set the config variable\n",
      "`--NotebookApp.iopub_data_rate_limit`.\n",
      "\n",
      "Current values:\n",
      "NotebookApp.iopub_data_rate_limit=1000000.0 (bytes/sec)\n",
      "NotebookApp.rate_limit_window=3.0 (secs)\n",
      "\n"
     ]
    }
   ],
   "source": [
    "import csv\n",
    "\n",
    "with open('BooksDataSet.csv', 'r',encoding=\"utf-8\") as csv_file:\n",
    "    csv_reader = csv.reader(csv_file)\n",
    "    \n",
    "    with open('BookSummaryDataset.txt', 'w',encoding=\"utf-8\") as txt_file:\n",
    "        for row in csv_reader:\n",
    "            txt_file.write('\\t'.join(row) + '\\n')\n",
    "with open('BookSummaryDataset.txt', 'r',encoding=\"utf-8\") as txt_file:\n",
    "        print(txt_file.read())"
   ]
  },
  {
   "cell_type": "markdown",
   "metadata": {},
   "source": [
    "### Converting txt to csv"
   ]
  },
  {
   "cell_type": "code",
   "execution_count": 433,
   "metadata": {},
   "outputs": [
    {
     "data": {
      "text/html": [
       "<div>\n",
       "<style scoped>\n",
       "    .dataframe tbody tr th:only-of-type {\n",
       "        vertical-align: middle;\n",
       "    }\n",
       "\n",
       "    .dataframe tbody tr th {\n",
       "        vertical-align: top;\n",
       "    }\n",
       "\n",
       "    .dataframe thead th {\n",
       "        text-align: right;\n",
       "    }\n",
       "</style>\n",
       "<table border=\"1\" class=\"dataframe\">\n",
       "  <thead>\n",
       "    <tr style=\"text-align: right;\">\n",
       "      <th></th>\n",
       "      <th>Doc_ID</th>\n",
       "      <th>Book_Name</th>\n",
       "      <th>Summary</th>\n",
       "    </tr>\n",
       "  </thead>\n",
       "  <tbody>\n",
       "    <tr>\n",
       "      <th>0</th>\n",
       "      <td>0</td>\n",
       "      <td>Drowned Wednesday</td>\n",
       "      <td>Drowned Wednesday is the first Trustee among ...</td>\n",
       "    </tr>\n",
       "    <tr>\n",
       "      <th>1</th>\n",
       "      <td>1</td>\n",
       "      <td>The Lost Hero</td>\n",
       "      <td>As the book opens, Jason awakens on a school ...</td>\n",
       "    </tr>\n",
       "    <tr>\n",
       "      <th>2</th>\n",
       "      <td>2</td>\n",
       "      <td>The Eyes of the Overworld</td>\n",
       "      <td>Cugel is easily persuaded by the merchant Fia...</td>\n",
       "    </tr>\n",
       "    <tr>\n",
       "      <th>3</th>\n",
       "      <td>3</td>\n",
       "      <td>Magic's Promise</td>\n",
       "      <td>The book opens with Herald-Mage Vanyel return...</td>\n",
       "    </tr>\n",
       "    <tr>\n",
       "      <th>4</th>\n",
       "      <td>4</td>\n",
       "      <td>Taran Wanderer</td>\n",
       "      <td>Taran and Gurgi have returned to Caer Dallben...</td>\n",
       "    </tr>\n",
       "    <tr>\n",
       "      <th>...</th>\n",
       "      <td>...</td>\n",
       "      <td>...</td>\n",
       "      <td>...</td>\n",
       "    </tr>\n",
       "    <tr>\n",
       "      <th>2995</th>\n",
       "      <td>2995</td>\n",
       "      <td>White Death</td>\n",
       "      <td>A Novel from the NUMA files, A Kurt Austin Ad...</td>\n",
       "    </tr>\n",
       "    <tr>\n",
       "      <th>2996</th>\n",
       "      <td>2996</td>\n",
       "      <td>Venus with Pistol</td>\n",
       "      <td>Gilbert Kemp is dealer specializing in antiqu...</td>\n",
       "    </tr>\n",
       "    <tr>\n",
       "      <th>2997</th>\n",
       "      <td>2997</td>\n",
       "      <td>Blackwater</td>\n",
       "      <td>\"How do you know when you're in too deep? Dav...</td>\n",
       "    </tr>\n",
       "    <tr>\n",
       "      <th>2998</th>\n",
       "      <td>2998</td>\n",
       "      <td>The Rainbow and the Rose</td>\n",
       "      <td>The story concerns the life of Johnnie Pascoe...</td>\n",
       "    </tr>\n",
       "    <tr>\n",
       "      <th>2999</th>\n",
       "      <td>2999</td>\n",
       "      <td>Chiefs</td>\n",
       "      <td>The First Chief: Will Henry Lee: The novel op...</td>\n",
       "    </tr>\n",
       "  </tbody>\n",
       "</table>\n",
       "<p>3000 rows × 3 columns</p>\n",
       "</div>"
      ],
      "text/plain": [
       "      Doc_ID                  Book_Name  \\\n",
       "0          0          Drowned Wednesday   \n",
       "1          1              The Lost Hero   \n",
       "2          2  The Eyes of the Overworld   \n",
       "3          3            Magic's Promise   \n",
       "4          4             Taran Wanderer   \n",
       "...      ...                        ...   \n",
       "2995    2995                White Death   \n",
       "2996    2996          Venus with Pistol   \n",
       "2997    2997                 Blackwater   \n",
       "2998    2998   The Rainbow and the Rose   \n",
       "2999    2999                     Chiefs   \n",
       "\n",
       "                                                Summary  \n",
       "0      Drowned Wednesday is the first Trustee among ...  \n",
       "1      As the book opens, Jason awakens on a school ...  \n",
       "2      Cugel is easily persuaded by the merchant Fia...  \n",
       "3      The book opens with Herald-Mage Vanyel return...  \n",
       "4      Taran and Gurgi have returned to Caer Dallben...  \n",
       "...                                                 ...  \n",
       "2995   A Novel from the NUMA files, A Kurt Austin Ad...  \n",
       "2996   Gilbert Kemp is dealer specializing in antiqu...  \n",
       "2997   \"How do you know when you're in too deep? Dav...  \n",
       "2998   The story concerns the life of Johnnie Pascoe...  \n",
       "2999   The First Chief: Will Henry Lee: The novel op...  \n",
       "\n",
       "[3000 rows x 3 columns]"
      ]
     },
     "execution_count": 433,
     "metadata": {},
     "output_type": "execute_result"
    }
   ],
   "source": [
    "import pandas as pd\n",
    "df=pd.read_csv(\"BookSummaryDataset.txt\",delimiter='\\t')\n",
    "df"
   ]
  },
  {
   "cell_type": "markdown",
   "metadata": {},
   "source": [
    "## Preprocessing of raw data"
   ]
  },
  {
   "cell_type": "code",
   "execution_count": 434,
   "metadata": {},
   "outputs": [
    {
     "name": "stderr",
     "output_type": "stream",
     "text": [
      "[nltk_data] Downloading package stopwords to C:\\Users\\Abhinav\n",
      "[nltk_data]     Gunti\\AppData\\Roaming\\nltk_data...\n",
      "[nltk_data]   Package stopwords is already up-to-date!\n"
     ]
    },
    {
     "data": {
      "text/plain": [
       "True"
      ]
     },
     "execution_count": 434,
     "metadata": {},
     "output_type": "execute_result"
    }
   ],
   "source": [
    "import nltk\n",
    "nltk.download('stopwords')"
   ]
  },
  {
   "cell_type": "markdown",
   "metadata": {},
   "source": [
    "### Lowercasing"
   ]
  },
  {
   "cell_type": "code",
   "execution_count": 435,
   "metadata": {},
   "outputs": [
    {
     "data": {
      "text/html": [
       "<div>\n",
       "<style scoped>\n",
       "    .dataframe tbody tr th:only-of-type {\n",
       "        vertical-align: middle;\n",
       "    }\n",
       "\n",
       "    .dataframe tbody tr th {\n",
       "        vertical-align: top;\n",
       "    }\n",
       "\n",
       "    .dataframe thead th {\n",
       "        text-align: right;\n",
       "    }\n",
       "</style>\n",
       "<table border=\"1\" class=\"dataframe\">\n",
       "  <thead>\n",
       "    <tr style=\"text-align: right;\">\n",
       "      <th></th>\n",
       "      <th>Doc_ID</th>\n",
       "      <th>Book_Name</th>\n",
       "      <th>Summary</th>\n",
       "    </tr>\n",
       "  </thead>\n",
       "  <tbody>\n",
       "    <tr>\n",
       "      <th>0</th>\n",
       "      <td>0</td>\n",
       "      <td>drowned wednesday</td>\n",
       "      <td>drowned wednesday is the first trustee among ...</td>\n",
       "    </tr>\n",
       "    <tr>\n",
       "      <th>1</th>\n",
       "      <td>1</td>\n",
       "      <td>the lost hero</td>\n",
       "      <td>as the book opens, jason awakens on a school ...</td>\n",
       "    </tr>\n",
       "    <tr>\n",
       "      <th>2</th>\n",
       "      <td>2</td>\n",
       "      <td>the eyes of the overworld</td>\n",
       "      <td>cugel is easily persuaded by the merchant fia...</td>\n",
       "    </tr>\n",
       "    <tr>\n",
       "      <th>3</th>\n",
       "      <td>3</td>\n",
       "      <td>magic's promise</td>\n",
       "      <td>the book opens with herald-mage vanyel return...</td>\n",
       "    </tr>\n",
       "    <tr>\n",
       "      <th>4</th>\n",
       "      <td>4</td>\n",
       "      <td>taran wanderer</td>\n",
       "      <td>taran and gurgi have returned to caer dallben...</td>\n",
       "    </tr>\n",
       "    <tr>\n",
       "      <th>...</th>\n",
       "      <td>...</td>\n",
       "      <td>...</td>\n",
       "      <td>...</td>\n",
       "    </tr>\n",
       "    <tr>\n",
       "      <th>2995</th>\n",
       "      <td>2995</td>\n",
       "      <td>white death</td>\n",
       "      <td>a novel from the numa files, a kurt austin ad...</td>\n",
       "    </tr>\n",
       "    <tr>\n",
       "      <th>2996</th>\n",
       "      <td>2996</td>\n",
       "      <td>venus with pistol</td>\n",
       "      <td>gilbert kemp is dealer specializing in antiqu...</td>\n",
       "    </tr>\n",
       "    <tr>\n",
       "      <th>2997</th>\n",
       "      <td>2997</td>\n",
       "      <td>blackwater</td>\n",
       "      <td>\"how do you know when you're in too deep? dav...</td>\n",
       "    </tr>\n",
       "    <tr>\n",
       "      <th>2998</th>\n",
       "      <td>2998</td>\n",
       "      <td>the rainbow and the rose</td>\n",
       "      <td>the story concerns the life of johnnie pascoe...</td>\n",
       "    </tr>\n",
       "    <tr>\n",
       "      <th>2999</th>\n",
       "      <td>2999</td>\n",
       "      <td>chiefs</td>\n",
       "      <td>the first chief: will henry lee: the novel op...</td>\n",
       "    </tr>\n",
       "  </tbody>\n",
       "</table>\n",
       "<p>3000 rows × 3 columns</p>\n",
       "</div>"
      ],
      "text/plain": [
       "      Doc_ID                  Book_Name  \\\n",
       "0          0          drowned wednesday   \n",
       "1          1              the lost hero   \n",
       "2          2  the eyes of the overworld   \n",
       "3          3            magic's promise   \n",
       "4          4             taran wanderer   \n",
       "...      ...                        ...   \n",
       "2995    2995                white death   \n",
       "2996    2996          venus with pistol   \n",
       "2997    2997                 blackwater   \n",
       "2998    2998   the rainbow and the rose   \n",
       "2999    2999                     chiefs   \n",
       "\n",
       "                                                Summary  \n",
       "0      drowned wednesday is the first trustee among ...  \n",
       "1      as the book opens, jason awakens on a school ...  \n",
       "2      cugel is easily persuaded by the merchant fia...  \n",
       "3      the book opens with herald-mage vanyel return...  \n",
       "4      taran and gurgi have returned to caer dallben...  \n",
       "...                                                 ...  \n",
       "2995   a novel from the numa files, a kurt austin ad...  \n",
       "2996   gilbert kemp is dealer specializing in antiqu...  \n",
       "2997   \"how do you know when you're in too deep? dav...  \n",
       "2998   the story concerns the life of johnnie pascoe...  \n",
       "2999   the first chief: will henry lee: the novel op...  \n",
       "\n",
       "[3000 rows x 3 columns]"
      ]
     },
     "execution_count": 435,
     "metadata": {},
     "output_type": "execute_result"
    }
   ],
   "source": [
    "def lowercasing(df):\n",
    "    df_lowercasing['Book_Name'] = df['Book_Name'].apply(str.lower)\n",
    "    df_lowercasing['Summary'] = df['Summary'].apply(str.lower)\n",
    "    return df_lowercasing\n",
    "df_lowercasing=lowercasing(df)\n",
    "df_lowercasing"
   ]
  },
  {
   "cell_type": "code",
   "execution_count": 436,
   "metadata": {
    "scrolled": true
   },
   "outputs": [
    {
     "name": "stdout",
     "output_type": "stream",
     "text": [
      "After Loweringcasing : \n",
      "  the book opens with herald-mage vanyel returning to his country valdemar from an extensive campaign along the border with karse, the neighboring enemy country. he checks in with valdemar's king randale and his lifebonded mate, shavri, and their daughter jisa. only a select few know that jisa is vanyel's daughter. because king randale is sterile, he had asked vanyel to father an heir. now, shavri confides in vanyel her fear that randale is mortally ill. vanyel and his mentor savil return to vanyel's family home at forst reach, where they find little rest or peace. his parents both try to change his mind about being shay'a'chern, or homosexual. vanyel becomes somewhat confused about his own sexuality. he wonders if he is truly in love with shavri. yfandes, vanyel's companion, doesn't buy it and finds the situation amusing. vanyel also meets his illegitimate nephew, medren. medren is small for his age as vanyel was, and like him it appears that he is often bullied by the armsmaster jervis. the boy has a powerful bardic gift, and vanyel sponsors him for the bardic collegium. vanyel confronts jervis and learns that the armsmaster is not being intentionally rough. he also apologizes for beating vanyel long ago, and explains his difficult position with vanyel's father. he also mentions that he knew vanyel was shay'a'chern from the beginning, but also knew from his army service that being gay does not keep men from being courageous warriors. vanyel accepts this and they form an uneasy friendship. the main plot focuses on how vanyel assists young prince tashir remoerdis. vanyel and yandes receive a psychic summons into the neighboring country of lineas. upon arrival, they find tashir, who has just become a herald, with his companion, leshya (nicknamed ghost by yfandes). another herald, lores, is beating the child and attacks ghost when he tries to interfere. he believes that tashir is actually an evil sorcerer who has murdered his own family. vanyel immediately stops lores and commands him to return to valdemar. vanyel takes tashir back to his own home, forst reach, and begins to try and discover what truly happened to tashir's family. he then returns to lineas, disguised as a minstrel to gather information. in lineas magic is taboo; no one is supposed to perform it for any reason. it shares a border with baires, a country ruled by the mavelan, a family of mages. a treaty was signed to end the warring between the two countries, sealed by the marriage of tashir's parents. in the treaty there exists a clause that if the royal family of lineas dies out, the mavelan can take over the lineas throne, and vice versa. vanyel meets an old servant of the remoerdis family who tells him of tashir's sad childhood. tashir was physically and emotionally abused by his father and sexually abused by his mother. his mother was mentally unstable and made seductive overtures to tashir even as a young child. tashir looks very much like his mother's uncle vedric, and rumor has it that he is the product of an incestuous affair between them. returning to forst reach, vanyel recruits savil and jervis to help. together with tashir, they return to lineas, breaking through the palace's magic shields to search the place. they find a secret room which contains a \"heart-stone\", an ordinary rock connected with a magical \"node\" which is keeping a deep, dangerous fault sealed. as the stone was unstable and any magic done in the area could disturb it, a guardian family without magic was appointed. if the stone were to be removed, a giant earthquake would occur destroying lineas, parts of the outlands, and the border of valdemar. that was why magic was anathema in lineas, and also why everyone in the palace was blood related member of the remoerdis family, sworn to protect the node. in the palace vanyel and savil discover a \"trap-spell\", which targets one person and also kills the target's entire family. tashir's family were the victims of the trap-spell, which was placed by tashir's uncle vedric, whose intention is to control both lineas and baires. (he is not, however, tashir's father.) vedric tries the same trick on vanyel, who has already caught on and sent savil away, along with tashir, while keeping jervis with him. in defending himself, vanyel ends up killing most of the baires family as well as vedric. now king of both baires and lineas, tashir considers himself too young and inexperienced. he allows king randale to annex the two smaller countries into valdemar. vanyel finally sorts out that he actually is gay, and that shavri is just a good friend. \n",
      "\n",
      "\n"
     ]
    }
   ],
   "source": [
    "print(\"After Loweringcasing : \\n\",df_lowercasing[\"Summary\"][3],\"\\n\\n\")"
   ]
  },
  {
   "cell_type": "markdown",
   "metadata": {},
   "source": [
    "### Tokenization"
   ]
  },
  {
   "cell_type": "code",
   "execution_count": 437,
   "metadata": {
    "scrolled": false
   },
   "outputs": [
    {
     "data": {
      "text/html": [
       "<div>\n",
       "<style scoped>\n",
       "    .dataframe tbody tr th:only-of-type {\n",
       "        vertical-align: middle;\n",
       "    }\n",
       "\n",
       "    .dataframe tbody tr th {\n",
       "        vertical-align: top;\n",
       "    }\n",
       "\n",
       "    .dataframe thead th {\n",
       "        text-align: right;\n",
       "    }\n",
       "</style>\n",
       "<table border=\"1\" class=\"dataframe\">\n",
       "  <thead>\n",
       "    <tr style=\"text-align: right;\">\n",
       "      <th></th>\n",
       "      <th>Doc_ID</th>\n",
       "      <th>Book_Name</th>\n",
       "      <th>Summary</th>\n",
       "    </tr>\n",
       "  </thead>\n",
       "  <tbody>\n",
       "    <tr>\n",
       "      <th>0</th>\n",
       "      <td>0</td>\n",
       "      <td>drowned wednesday</td>\n",
       "      <td>[drowned, wednesday, is, the, first, trustee, ...</td>\n",
       "    </tr>\n",
       "    <tr>\n",
       "      <th>1</th>\n",
       "      <td>1</td>\n",
       "      <td>the lost hero</td>\n",
       "      <td>[as, the, book, opens, ,, jason, awakens, on, ...</td>\n",
       "    </tr>\n",
       "    <tr>\n",
       "      <th>2</th>\n",
       "      <td>2</td>\n",
       "      <td>the eyes of the overworld</td>\n",
       "      <td>[cugel, is, easily, persuaded, by, the, mercha...</td>\n",
       "    </tr>\n",
       "    <tr>\n",
       "      <th>3</th>\n",
       "      <td>3</td>\n",
       "      <td>magic's promise</td>\n",
       "      <td>[the, book, opens, with, herald, -, mage, vany...</td>\n",
       "    </tr>\n",
       "    <tr>\n",
       "      <th>4</th>\n",
       "      <td>4</td>\n",
       "      <td>taran wanderer</td>\n",
       "      <td>[taran, and, gurgi, have, returned, to, caer, ...</td>\n",
       "    </tr>\n",
       "    <tr>\n",
       "      <th>...</th>\n",
       "      <td>...</td>\n",
       "      <td>...</td>\n",
       "      <td>...</td>\n",
       "    </tr>\n",
       "    <tr>\n",
       "      <th>2995</th>\n",
       "      <td>2995</td>\n",
       "      <td>white death</td>\n",
       "      <td>[a, novel, from, the, numa, files, ,, a, kurt,...</td>\n",
       "    </tr>\n",
       "    <tr>\n",
       "      <th>2996</th>\n",
       "      <td>2996</td>\n",
       "      <td>venus with pistol</td>\n",
       "      <td>[gilbert, kemp, is, dealer, specializing, in, ...</td>\n",
       "    </tr>\n",
       "    <tr>\n",
       "      <th>2997</th>\n",
       "      <td>2997</td>\n",
       "      <td>blackwater</td>\n",
       "      <td>[\", how, do, you, know, when, you, ', re, in, ...</td>\n",
       "    </tr>\n",
       "    <tr>\n",
       "      <th>2998</th>\n",
       "      <td>2998</td>\n",
       "      <td>the rainbow and the rose</td>\n",
       "      <td>[the, story, concerns, the, life, of, johnnie,...</td>\n",
       "    </tr>\n",
       "    <tr>\n",
       "      <th>2999</th>\n",
       "      <td>2999</td>\n",
       "      <td>chiefs</td>\n",
       "      <td>[the, first, chief, :, will, henry, lee, :, th...</td>\n",
       "    </tr>\n",
       "  </tbody>\n",
       "</table>\n",
       "<p>3000 rows × 3 columns</p>\n",
       "</div>"
      ],
      "text/plain": [
       "      Doc_ID                  Book_Name  \\\n",
       "0          0          drowned wednesday   \n",
       "1          1              the lost hero   \n",
       "2          2  the eyes of the overworld   \n",
       "3          3            magic's promise   \n",
       "4          4             taran wanderer   \n",
       "...      ...                        ...   \n",
       "2995    2995                white death   \n",
       "2996    2996          venus with pistol   \n",
       "2997    2997                 blackwater   \n",
       "2998    2998   the rainbow and the rose   \n",
       "2999    2999                     chiefs   \n",
       "\n",
       "                                                Summary  \n",
       "0     [drowned, wednesday, is, the, first, trustee, ...  \n",
       "1     [as, the, book, opens, ,, jason, awakens, on, ...  \n",
       "2     [cugel, is, easily, persuaded, by, the, mercha...  \n",
       "3     [the, book, opens, with, herald, -, mage, vany...  \n",
       "4     [taran, and, gurgi, have, returned, to, caer, ...  \n",
       "...                                                 ...  \n",
       "2995  [a, novel, from, the, numa, files, ,, a, kurt,...  \n",
       "2996  [gilbert, kemp, is, dealer, specializing, in, ...  \n",
       "2997  [\", how, do, you, know, when, you, ', re, in, ...  \n",
       "2998  [the, story, concerns, the, life, of, johnnie,...  \n",
       "2999  [the, first, chief, :, will, henry, lee, :, th...  \n",
       "\n",
       "[3000 rows x 3 columns]"
      ]
     },
     "execution_count": 437,
     "metadata": {},
     "output_type": "execute_result"
    }
   ],
   "source": [
    "from nltk.tokenize import WordPunctTokenizer\n",
    "# pd.set_option('mode.chained_assignment', None)\n",
    "\n",
    "def tokenization(df_lowercasing):\n",
    "    df_tokenized=df_lowercasing.copy()\n",
    "    corpus=df_tokenized[\"Summary\"].values\n",
    "    tokenized_summaries = []\n",
    "    for i in range(len(corpus)):\n",
    "        # use loc accessor to modify original DataFrame directly\n",
    "        tokens = WordPunctTokenizer().tokenize(corpus[i])\n",
    "        tokenized_summaries.append(tokens)\n",
    "    df_tokenized[\"Summary\"] = tokenized_summaries\n",
    "    return df_tokenized\n",
    "\n",
    "df_tokenized=tokenization(df_lowercasing)\n",
    "df_tokenized\n"
   ]
  },
  {
   "cell_type": "code",
   "execution_count": 438,
   "metadata": {},
   "outputs": [
    {
     "name": "stdout",
     "output_type": "stream",
     "text": [
      "\" how do you know when you ' re in too deep ? davey has always lived in the shadow of his older brother , a smiling sociopath who will stop at nothing to protect himself and his family . but when the shadowy figure of denis tanter comes into davey ' s life , how far will the bond of brotherhood reach ?\" \n",
      " 64\n"
     ]
    }
   ],
   "source": [
    "print(\" \".join(df_tokenized[\"Summary\"][2997]),\"\\n\",len(df_tokenized[\"Summary\"][2997]))"
   ]
  },
  {
   "cell_type": "code",
   "execution_count": 439,
   "metadata": {},
   "outputs": [
    {
     "name": "stdout",
     "output_type": "stream",
     "text": [
      "After tokenization : \n",
      " the book opens with herald - mage vanyel returning to his country valdemar from an extensive campaign along the border with karse , the neighboring enemy country . he checks in with valdemar ' s king randale and his lifebonded mate , shavri , and their daughter jisa . only a select few know that jisa is vanyel ' s daughter . because king randale is sterile , he had asked vanyel to father an heir . now , shavri confides in vanyel her fear that randale is mortally ill . vanyel and his mentor savil return to vanyel ' s family home at forst reach , where they find little rest or peace . his parents both try to change his mind about being shay ' a ' chern , or homosexual . vanyel becomes somewhat confused about his own sexuality . he wonders if he is truly in love with shavri . yfandes , vanyel ' s companion , doesn ' t buy it and finds the situation amusing . vanyel also meets his illegitimate nephew , medren . medren is small for his age as vanyel was , and like him it appears that he is often bullied by the armsmaster jervis . the boy has a powerful bardic gift , and vanyel sponsors him for the bardic collegium . vanyel confronts jervis and learns that the armsmaster is not being intentionally rough . he also apologizes for beating vanyel long ago , and explains his difficult position with vanyel ' s father . he also mentions that he knew vanyel was shay ' a ' chern from the beginning , but also knew from his army service that being gay does not keep men from being courageous warriors . vanyel accepts this and they form an uneasy friendship . the main plot focuses on how vanyel assists young prince tashir remoerdis . vanyel and yandes receive a psychic summons into the neighboring country of lineas . upon arrival , they find tashir , who has just become a herald , with his companion , leshya ( nicknamed ghost by yfandes ). another herald , lores , is beating the child and attacks ghost when he tries to interfere . he believes that tashir is actually an evil sorcerer who has murdered his own family . vanyel immediately stops lores and commands him to return to valdemar . vanyel takes tashir back to his own home , forst reach , and begins to try and discover what truly happened to tashir ' s family . he then returns to lineas , disguised as a minstrel to gather information . in lineas magic is taboo ; no one is supposed to perform it for any reason . it shares a border with baires , a country ruled by the mavelan , a family of mages . a treaty was signed to end the warring between the two countries , sealed by the marriage of tashir ' s parents . in the treaty there exists a clause that if the royal family of lineas dies out , the mavelan can take over the lineas throne , and vice versa . vanyel meets an old servant of the remoerdis family who tells him of tashir ' s sad childhood . tashir was physically and emotionally abused by his father and sexually abused by his mother . his mother was mentally unstable and made seductive overtures to tashir even as a young child . tashir looks very much like his mother ' s uncle vedric , and rumor has it that he is the product of an incestuous affair between them . returning to forst reach , vanyel recruits savil and jervis to help . together with tashir , they return to lineas , breaking through the palace ' s magic shields to search the place . they find a secret room which contains a \" heart - stone \", an ordinary rock connected with a magical \" node \" which is keeping a deep , dangerous fault sealed . as the stone was unstable and any magic done in the area could disturb it , a guardian family without magic was appointed . if the stone were to be removed , a giant earthquake would occur destroying lineas , parts of the outlands , and the border of valdemar . that was why magic was anathema in lineas , and also why everyone in the palace was blood related member of the remoerdis family , sworn to protect the node . in the palace vanyel and savil discover a \" trap - spell \", which targets one person and also kills the target ' s entire family . tashir ' s family were the victims of the trap - spell , which was placed by tashir ' s uncle vedric , whose intention is to control both lineas and baires . ( he is not , however , tashir ' s father .) vedric tries the same trick on vanyel , who has already caught on and sent savil away , along with tashir , while keeping jervis with him . in defending himself , vanyel ends up killing most of the baires family as well as vedric . now king of both baires and lineas , tashir considers himself too young and inexperienced . he allows king randale to annex the two smaller countries into valdemar . vanyel finally sorts out that he actually is gay , and that shavri is just a good friend . \n",
      " 927\n"
     ]
    }
   ],
   "source": [
    "print(\"After tokenization : \\n\",\" \".join(df_tokenized[\"Summary\"][3]),\"\\n\",len(df_tokenized[\"Summary\"][3]))"
   ]
  },
  {
   "cell_type": "markdown",
   "metadata": {},
   "source": [
    "### Removing punctuation"
   ]
  },
  {
   "cell_type": "code",
   "execution_count": 440,
   "metadata": {},
   "outputs": [
    {
     "data": {
      "text/html": [
       "<div>\n",
       "<style scoped>\n",
       "    .dataframe tbody tr th:only-of-type {\n",
       "        vertical-align: middle;\n",
       "    }\n",
       "\n",
       "    .dataframe tbody tr th {\n",
       "        vertical-align: top;\n",
       "    }\n",
       "\n",
       "    .dataframe thead th {\n",
       "        text-align: right;\n",
       "    }\n",
       "</style>\n",
       "<table border=\"1\" class=\"dataframe\">\n",
       "  <thead>\n",
       "    <tr style=\"text-align: right;\">\n",
       "      <th></th>\n",
       "      <th>Doc_ID</th>\n",
       "      <th>Book_Name</th>\n",
       "      <th>Summary</th>\n",
       "    </tr>\n",
       "  </thead>\n",
       "  <tbody>\n",
       "    <tr>\n",
       "      <th>0</th>\n",
       "      <td>0</td>\n",
       "      <td>drowned wednesday</td>\n",
       "      <td>[drowned, wednesday, is, the, first, trustee, ...</td>\n",
       "    </tr>\n",
       "    <tr>\n",
       "      <th>1</th>\n",
       "      <td>1</td>\n",
       "      <td>the lost hero</td>\n",
       "      <td>[as, the, book, opens, jason, awakens, on, a, ...</td>\n",
       "    </tr>\n",
       "    <tr>\n",
       "      <th>2</th>\n",
       "      <td>2</td>\n",
       "      <td>the eyes of the overworld</td>\n",
       "      <td>[cugel, is, easily, persuaded, by, the, mercha...</td>\n",
       "    </tr>\n",
       "    <tr>\n",
       "      <th>3</th>\n",
       "      <td>3</td>\n",
       "      <td>magic's promise</td>\n",
       "      <td>[the, book, opens, with, herald, mage, vanyel,...</td>\n",
       "    </tr>\n",
       "    <tr>\n",
       "      <th>4</th>\n",
       "      <td>4</td>\n",
       "      <td>taran wanderer</td>\n",
       "      <td>[taran, and, gurgi, have, returned, to, caer, ...</td>\n",
       "    </tr>\n",
       "    <tr>\n",
       "      <th>...</th>\n",
       "      <td>...</td>\n",
       "      <td>...</td>\n",
       "      <td>...</td>\n",
       "    </tr>\n",
       "    <tr>\n",
       "      <th>2995</th>\n",
       "      <td>2995</td>\n",
       "      <td>white death</td>\n",
       "      <td>[a, novel, from, the, numa, files, a, kurt, au...</td>\n",
       "    </tr>\n",
       "    <tr>\n",
       "      <th>2996</th>\n",
       "      <td>2996</td>\n",
       "      <td>venus with pistol</td>\n",
       "      <td>[gilbert, kemp, is, dealer, specializing, in, ...</td>\n",
       "    </tr>\n",
       "    <tr>\n",
       "      <th>2997</th>\n",
       "      <td>2997</td>\n",
       "      <td>blackwater</td>\n",
       "      <td>[how, do, you, know, when, you, re, in, too, d...</td>\n",
       "    </tr>\n",
       "    <tr>\n",
       "      <th>2998</th>\n",
       "      <td>2998</td>\n",
       "      <td>the rainbow and the rose</td>\n",
       "      <td>[the, story, concerns, the, life, of, johnnie,...</td>\n",
       "    </tr>\n",
       "    <tr>\n",
       "      <th>2999</th>\n",
       "      <td>2999</td>\n",
       "      <td>chiefs</td>\n",
       "      <td>[the, first, chief, will, henry, lee, the, nov...</td>\n",
       "    </tr>\n",
       "  </tbody>\n",
       "</table>\n",
       "<p>3000 rows × 3 columns</p>\n",
       "</div>"
      ],
      "text/plain": [
       "      Doc_ID                  Book_Name  \\\n",
       "0          0          drowned wednesday   \n",
       "1          1              the lost hero   \n",
       "2          2  the eyes of the overworld   \n",
       "3          3            magic's promise   \n",
       "4          4             taran wanderer   \n",
       "...      ...                        ...   \n",
       "2995    2995                white death   \n",
       "2996    2996          venus with pistol   \n",
       "2997    2997                 blackwater   \n",
       "2998    2998   the rainbow and the rose   \n",
       "2999    2999                     chiefs   \n",
       "\n",
       "                                                Summary  \n",
       "0     [drowned, wednesday, is, the, first, trustee, ...  \n",
       "1     [as, the, book, opens, jason, awakens, on, a, ...  \n",
       "2     [cugel, is, easily, persuaded, by, the, mercha...  \n",
       "3     [the, book, opens, with, herald, mage, vanyel,...  \n",
       "4     [taran, and, gurgi, have, returned, to, caer, ...  \n",
       "...                                                 ...  \n",
       "2995  [a, novel, from, the, numa, files, a, kurt, au...  \n",
       "2996  [gilbert, kemp, is, dealer, specializing, in, ...  \n",
       "2997  [how, do, you, know, when, you, re, in, too, d...  \n",
       "2998  [the, story, concerns, the, life, of, johnnie,...  \n",
       "2999  [the, first, chief, will, henry, lee, the, nov...  \n",
       "\n",
       "[3000 rows x 3 columns]"
      ]
     },
     "execution_count": 440,
     "metadata": {},
     "output_type": "execute_result"
    }
   ],
   "source": [
    "import string\n",
    "def remove_punctuation(df_tokenized):\n",
    "    df_punc=df_tokenized.copy()\n",
    "    translator =str.maketrans('', '', string.punctuation+\" \")\n",
    "    for i in range(len(df_tokenized['Summary'])):\n",
    "        df_punc['Summary'][i] = [token.translate(translator) for token in df_tokenized['Summary'][i]]\n",
    "        df_punc['Summary'][i] = list(filter(None, df_punc['Summary'][i])) #to remove space that got generated while removing punctuation\n",
    "\n",
    "    return df_punc\n",
    "df_punc=remove_punctuation(df_tokenized)\n",
    "df_punc"
   ]
  },
  {
   "cell_type": "code",
   "execution_count": 441,
   "metadata": {},
   "outputs": [
    {
     "name": "stdout",
     "output_type": "stream",
     "text": [
      "how do you know when you re in too deep davey has always lived in the shadow of his older brother a smiling sociopath who will stop at nothing to protect himself and his family but when the shadowy figure of denis tanter comes into davey s life how far will the bond of brotherhood reach \n",
      " 56\n"
     ]
    }
   ],
   "source": [
    "print(\" \".join(df_punc[\"Summary\"][2997]),\"\\n\",len(df_punc[\"Summary\"][2997]))"
   ]
  },
  {
   "cell_type": "code",
   "execution_count": 442,
   "metadata": {},
   "outputs": [
    {
     "name": "stdout",
     "output_type": "stream",
     "text": [
      "After removing punctuation : \n",
      " the book opens with herald mage vanyel returning to his country valdemar from an extensive campaign along the border with karse the neighboring enemy country he checks in with valdemar s king randale and his lifebonded mate shavri and their daughter jisa only a select few know that jisa is vanyel s daughter because king randale is sterile he had asked vanyel to father an heir now shavri confides in vanyel her fear that randale is mortally ill vanyel and his mentor savil return to vanyel s family home at forst reach where they find little rest or peace his parents both try to change his mind about being shay a chern or homosexual vanyel becomes somewhat confused about his own sexuality he wonders if he is truly in love with shavri yfandes vanyel s companion doesn t buy it and finds the situation amusing vanyel also meets his illegitimate nephew medren medren is small for his age as vanyel was and like him it appears that he is often bullied by the armsmaster jervis the boy has a powerful bardic gift and vanyel sponsors him for the bardic collegium vanyel confronts jervis and learns that the armsmaster is not being intentionally rough he also apologizes for beating vanyel long ago and explains his difficult position with vanyel s father he also mentions that he knew vanyel was shay a chern from the beginning but also knew from his army service that being gay does not keep men from being courageous warriors vanyel accepts this and they form an uneasy friendship the main plot focuses on how vanyel assists young prince tashir remoerdis vanyel and yandes receive a psychic summons into the neighboring country of lineas upon arrival they find tashir who has just become a herald with his companion leshya nicknamed ghost by yfandes another herald lores is beating the child and attacks ghost when he tries to interfere he believes that tashir is actually an evil sorcerer who has murdered his own family vanyel immediately stops lores and commands him to return to valdemar vanyel takes tashir back to his own home forst reach and begins to try and discover what truly happened to tashir s family he then returns to lineas disguised as a minstrel to gather information in lineas magic is taboo no one is supposed to perform it for any reason it shares a border with baires a country ruled by the mavelan a family of mages a treaty was signed to end the warring between the two countries sealed by the marriage of tashir s parents in the treaty there exists a clause that if the royal family of lineas dies out the mavelan can take over the lineas throne and vice versa vanyel meets an old servant of the remoerdis family who tells him of tashir s sad childhood tashir was physically and emotionally abused by his father and sexually abused by his mother his mother was mentally unstable and made seductive overtures to tashir even as a young child tashir looks very much like his mother s uncle vedric and rumor has it that he is the product of an incestuous affair between them returning to forst reach vanyel recruits savil and jervis to help together with tashir they return to lineas breaking through the palace s magic shields to search the place they find a secret room which contains a heart stone an ordinary rock connected with a magical node which is keeping a deep dangerous fault sealed as the stone was unstable and any magic done in the area could disturb it a guardian family without magic was appointed if the stone were to be removed a giant earthquake would occur destroying lineas parts of the outlands and the border of valdemar that was why magic was anathema in lineas and also why everyone in the palace was blood related member of the remoerdis family sworn to protect the node in the palace vanyel and savil discover a trap spell which targets one person and also kills the target s entire family tashir s family were the victims of the trap spell which was placed by tashir s uncle vedric whose intention is to control both lineas and baires he is not however tashir s father vedric tries the same trick on vanyel who has already caught on and sent savil away along with tashir while keeping jervis with him in defending himself vanyel ends up killing most of the baires family as well as vedric now king of both baires and lineas tashir considers himself too young and inexperienced he allows king randale to annex the two smaller countries into valdemar vanyel finally sorts out that he actually is gay and that shavri is just a good friend \n",
      " 799\n"
     ]
    }
   ],
   "source": [
    "print(\"After removing punctuation : \\n\",\" \".join(df_punc[\"Summary\"][3]),\"\\n\",len(df_punc[\"Summary\"][3]))"
   ]
  },
  {
   "cell_type": "markdown",
   "metadata": {},
   "source": [
    "### Stopwords removal"
   ]
  },
  {
   "cell_type": "code",
   "execution_count": 443,
   "metadata": {},
   "outputs": [
    {
     "name": "stdout",
     "output_type": "stream",
     "text": [
      "List of all stopwords in english : \n",
      " ['i', 'me', 'my', 'myself', 'we', 'our', 'ours', 'ourselves', 'you', \"you're\", \"you've\", \"you'll\", \"you'd\", 'your', 'yours', 'yourself', 'yourselves', 'he', 'him', 'his', 'himself', 'she', \"she's\", 'her', 'hers', 'herself', 'it', \"it's\", 'its', 'itself', 'they', 'them', 'their', 'theirs', 'themselves', 'what', 'which', 'who', 'whom', 'this', 'that', \"that'll\", 'these', 'those', 'am', 'is', 'are', 'was', 'were', 'be', 'been', 'being', 'have', 'has', 'had', 'having', 'do', 'does', 'did', 'doing', 'a', 'an', 'the', 'and', 'but', 'if', 'or', 'because', 'as', 'until', 'while', 'of', 'at', 'by', 'for', 'with', 'about', 'against', 'between', 'into', 'through', 'during', 'before', 'after', 'above', 'below', 'to', 'from', 'up', 'down', 'in', 'out', 'on', 'off', 'over', 'under', 'again', 'further', 'then', 'once', 'here', 'there', 'when', 'where', 'why', 'how', 'all', 'any', 'both', 'each', 'few', 'more', 'most', 'other', 'some', 'such', 'no', 'nor', 'not', 'only', 'own', 'same', 'so', 'than', 'too', 'very', 's', 't', 'can', 'will', 'just', 'don', \"don't\", 'should', \"should've\", 'now', 'd', 'll', 'm', 'o', 're', 've', 'y', 'ain', 'aren', \"aren't\", 'couldn', \"couldn't\", 'didn', \"didn't\", 'doesn', \"doesn't\", 'hadn', \"hadn't\", 'hasn', \"hasn't\", 'haven', \"haven't\", 'isn', \"isn't\", 'ma', 'mightn', \"mightn't\", 'mustn', \"mustn't\", 'needn', \"needn't\", 'shan', \"shan't\", 'shouldn', \"shouldn't\", 'wasn', \"wasn't\", 'weren', \"weren't\", 'won', \"won't\", 'wouldn', \"wouldn't\"]\n",
      "Number of stopwords :  179\n"
     ]
    }
   ],
   "source": [
    "from nltk.corpus import stopwords\n",
    "print(\"List of all stopwords in english : \\n\",stopwords.words('english'))\n",
    "print(\"Number of stopwords : \",len(stopwords.words('english')))"
   ]
  },
  {
   "cell_type": "code",
   "execution_count": 444,
   "metadata": {},
   "outputs": [
    {
     "name": "stdout",
     "output_type": "stream",
     "text": [
      "Average number of words per document before stopword removal :  475.325\n"
     ]
    }
   ],
   "source": [
    "# print(df_punc['Summary'])\n",
    "def avg_words_per_document(corpus,length):\n",
    "    avg_words_per_doc=0\n",
    "    for i in corpus:\n",
    "        avg_words_per_doc+=len(i)\n",
    "    avg_words_per_doc=avg_words_per_doc/length\n",
    "    return avg_words_per_doc\n",
    "\n",
    "print(\"Average number of words per document before stopword removal : \",avg_words_per_document(df_punc['Summary'],3000))"
   ]
  },
  {
   "cell_type": "code",
   "execution_count": 445,
   "metadata": {},
   "outputs": [
    {
     "name": "stdout",
     "output_type": "stream",
     "text": [
      "0       [drowned, wednesday, first, trustee, among, mo...\n",
      "1       [book, opens, jason, awakens, school, bus, una...\n",
      "2       [cugel, easily, persuaded, merchant, fianosthe...\n",
      "3       [book, opens, herald, mage, vanyel, returning,...\n",
      "4       [taran, gurgi, returned, caer, dallben, follow...\n",
      "                              ...                        \n",
      "2995    [novel, numa, files, kurt, austin, adventure, ...\n",
      "2996    [gilbert, kemp, dealer, specializing, antique,...\n",
      "2997    [know, deep, davey, always, lived, shadow, old...\n",
      "2998    [story, concerns, life, johnnie, pascoe, retir...\n",
      "2999    [first, chief, henry, lee, novel, opens, 1919,...\n",
      "Name: Summary, Length: 3000, dtype: object\n"
     ]
    }
   ],
   "source": [
    "import threading\n",
    "from functools import partial\n",
    "from nltk.corpus import stopwords\n",
    "\n",
    "def remove_stopwords(document):\n",
    "    stop_words = set(stopwords.words('english'))\n",
    "    return [word for word in document if word not in stop_words]\n",
    "\n",
    "def process_documents(documents):\n",
    "    threads = []\n",
    "    for i, document in enumerate(documents):\n",
    "        # create a partial function to call remove_stopwords with both i and document\n",
    "        target_func = partial(remove_stopwords, document) #(func,list)\n",
    "        thread = threading.Thread(target=lambda idx, func: documents.__setitem__(idx, func()), args=(i, target_func))#documents.__setitem__(idx, func()) will modify the list at specified index idx, setting it to thte result of calling function\n",
    "        threads.append(thread)\n",
    "        thread.start()\n",
    "        \n",
    "    for thread in threads:\n",
    "        thread.join()\n",
    "\n",
    "    return documents\n",
    "\n",
    "df_sw=df_punc.copy()\n",
    "corpus=df_sw['Summary']\n",
    "df_sw['Summary'] = process_documents(corpus)\n",
    "print(df_sw['Summary'])"
   ]
  },
  {
   "cell_type": "code",
   "execution_count": 446,
   "metadata": {},
   "outputs": [
    {
     "name": "stdout",
     "output_type": "stream",
     "text": [
      "Average number of words per document after stopword removal :  256.12533333333334\n"
     ]
    }
   ],
   "source": [
    "df_sw['Summary']\n",
    "print(\"Average number of words per document after stopword removal : \",avg_words_per_document(df_tokenized_sw['Summary'],3000))"
   ]
  },
  {
   "cell_type": "code",
   "execution_count": 447,
   "metadata": {},
   "outputs": [
    {
     "name": "stdout",
     "output_type": "stream",
     "text": [
      "After removing punctuation : \n",
      " the book opens with herald mage vanyel returning to his country valdemar from an extensive campaign along the border with karse the neighboring enemy country he checks in with valdemar s king randale and his lifebonded mate shavri and their daughter jisa only a select few know that jisa is vanyel s daughter because king randale is sterile he had asked vanyel to father an heir now shavri confides in vanyel her fear that randale is mortally ill vanyel and his mentor savil return to vanyel s family home at forst reach where they find little rest or peace his parents both try to change his mind about being shay a chern or homosexual vanyel becomes somewhat confused about his own sexuality he wonders if he is truly in love with shavri yfandes vanyel s companion doesn t buy it and finds the situation amusing vanyel also meets his illegitimate nephew medren medren is small for his age as vanyel was and like him it appears that he is often bullied by the armsmaster jervis the boy has a powerful bardic gift and vanyel sponsors him for the bardic collegium vanyel confronts jervis and learns that the armsmaster is not being intentionally rough he also apologizes for beating vanyel long ago and explains his difficult position with vanyel s father he also mentions that he knew vanyel was shay a chern from the beginning but also knew from his army service that being gay does not keep men from being courageous warriors vanyel accepts this and they form an uneasy friendship the main plot focuses on how vanyel assists young prince tashir remoerdis vanyel and yandes receive a psychic summons into the neighboring country of lineas upon arrival they find tashir who has just become a herald with his companion leshya nicknamed ghost by yfandes another herald lores is beating the child and attacks ghost when he tries to interfere he believes that tashir is actually an evil sorcerer who has murdered his own family vanyel immediately stops lores and commands him to return to valdemar vanyel takes tashir back to his own home forst reach and begins to try and discover what truly happened to tashir s family he then returns to lineas disguised as a minstrel to gather information in lineas magic is taboo no one is supposed to perform it for any reason it shares a border with baires a country ruled by the mavelan a family of mages a treaty was signed to end the warring between the two countries sealed by the marriage of tashir s parents in the treaty there exists a clause that if the royal family of lineas dies out the mavelan can take over the lineas throne and vice versa vanyel meets an old servant of the remoerdis family who tells him of tashir s sad childhood tashir was physically and emotionally abused by his father and sexually abused by his mother his mother was mentally unstable and made seductive overtures to tashir even as a young child tashir looks very much like his mother s uncle vedric and rumor has it that he is the product of an incestuous affair between them returning to forst reach vanyel recruits savil and jervis to help together with tashir they return to lineas breaking through the palace s magic shields to search the place they find a secret room which contains a heart stone an ordinary rock connected with a magical node which is keeping a deep dangerous fault sealed as the stone was unstable and any magic done in the area could disturb it a guardian family without magic was appointed if the stone were to be removed a giant earthquake would occur destroying lineas parts of the outlands and the border of valdemar that was why magic was anathema in lineas and also why everyone in the palace was blood related member of the remoerdis family sworn to protect the node in the palace vanyel and savil discover a trap spell which targets one person and also kills the target s entire family tashir s family were the victims of the trap spell which was placed by tashir s uncle vedric whose intention is to control both lineas and baires he is not however tashir s father vedric tries the same trick on vanyel who has already caught on and sent savil away along with tashir while keeping jervis with him in defending himself vanyel ends up killing most of the baires family as well as vedric now king of both baires and lineas tashir considers himself too young and inexperienced he allows king randale to annex the two smaller countries into valdemar vanyel finally sorts out that he actually is gay and that shavri is just a good friend \n",
      " 799\n",
      "After removing stopwords : \n",
      " book opens herald mage vanyel returning country valdemar extensive campaign along border karse neighboring enemy country checks valdemar king randale lifebonded mate shavri daughter jisa select know jisa vanyel daughter king randale sterile asked vanyel father heir shavri confides vanyel fear randale mortally ill vanyel mentor savil return vanyel family home forst reach find little rest peace parents try change mind shay chern homosexual vanyel becomes somewhat confused sexuality wonders truly love shavri yfandes vanyel companion buy finds situation amusing vanyel also meets illegitimate nephew medren medren small age vanyel like appears often bullied armsmaster jervis boy powerful bardic gift vanyel sponsors bardic collegium vanyel confronts jervis learns armsmaster intentionally rough also apologizes beating vanyel long ago explains difficult position vanyel father also mentions knew vanyel shay chern beginning also knew army service gay keep men courageous warriors vanyel accepts form uneasy friendship main plot focuses vanyel assists young prince tashir remoerdis vanyel yandes receive psychic summons neighboring country lineas upon arrival find tashir become herald companion leshya nicknamed ghost yfandes another herald lores beating child attacks ghost tries interfere believes tashir actually evil sorcerer murdered family vanyel immediately stops lores commands return valdemar vanyel takes tashir back home forst reach begins try discover truly happened tashir family returns lineas disguised minstrel gather information lineas magic taboo one supposed perform reason shares border baires country ruled mavelan family mages treaty signed end warring two countries sealed marriage tashir parents treaty exists clause royal family lineas dies mavelan take lineas throne vice versa vanyel meets old servant remoerdis family tells tashir sad childhood tashir physically emotionally abused father sexually abused mother mother mentally unstable made seductive overtures tashir even young child tashir looks much like mother uncle vedric rumor product incestuous affair returning forst reach vanyel recruits savil jervis help together tashir return lineas breaking palace magic shields search place find secret room contains heart stone ordinary rock connected magical node keeping deep dangerous fault sealed stone unstable magic done area could disturb guardian family without magic appointed stone removed giant earthquake would occur destroying lineas parts outlands border valdemar magic anathema lineas also everyone palace blood related member remoerdis family sworn protect node palace vanyel savil discover trap spell targets one person also kills target entire family tashir family victims trap spell placed tashir uncle vedric whose intention control lineas baires however tashir father vedric tries trick vanyel already caught sent savil away along tashir keeping jervis defending vanyel ends killing baires family well vedric king baires lineas tashir considers young inexperienced allows king randale annex two smaller countries valdemar vanyel finally sorts actually gay shavri good friend \n",
      " 438\n"
     ]
    }
   ],
   "source": [
    "print(\"After removing punctuation : \\n\",\" \".join(df_punc[\"Summary\"][3]),\"\\n\",len(df_punc[\"Summary\"][3]))\n",
    "\n",
    "print(\"After removing stopwords : \\n\",\" \".join(df_sw['Summary'][3]),\"\\n\",len(df_sw[\"Summary\"][3]))\n"
   ]
  },
  {
   "cell_type": "markdown",
   "metadata": {},
   "source": [
    "### Stemming/Lemmatization"
   ]
  },
  {
   "cell_type": "code",
   "execution_count": 448,
   "metadata": {},
   "outputs": [
    {
     "data": {
      "text/html": [
       "<div>\n",
       "<style scoped>\n",
       "    .dataframe tbody tr th:only-of-type {\n",
       "        vertical-align: middle;\n",
       "    }\n",
       "\n",
       "    .dataframe tbody tr th {\n",
       "        vertical-align: top;\n",
       "    }\n",
       "\n",
       "    .dataframe thead th {\n",
       "        text-align: right;\n",
       "    }\n",
       "</style>\n",
       "<table border=\"1\" class=\"dataframe\">\n",
       "  <thead>\n",
       "    <tr style=\"text-align: right;\">\n",
       "      <th></th>\n",
       "      <th>Doc_ID</th>\n",
       "      <th>Book_Name</th>\n",
       "      <th>Summary</th>\n",
       "    </tr>\n",
       "  </thead>\n",
       "  <tbody>\n",
       "    <tr>\n",
       "      <th>0</th>\n",
       "      <td>0</td>\n",
       "      <td>drowned wednesday</td>\n",
       "      <td>[drowned, wednesday, first, trustee, among, mo...</td>\n",
       "    </tr>\n",
       "    <tr>\n",
       "      <th>1</th>\n",
       "      <td>1</td>\n",
       "      <td>the lost hero</td>\n",
       "      <td>[book, open, jason, awakens, school, bus, unab...</td>\n",
       "    </tr>\n",
       "    <tr>\n",
       "      <th>2</th>\n",
       "      <td>2</td>\n",
       "      <td>the eyes of the overworld</td>\n",
       "      <td>[cugel, easily, persuaded, merchant, fianosthe...</td>\n",
       "    </tr>\n",
       "    <tr>\n",
       "      <th>3</th>\n",
       "      <td>3</td>\n",
       "      <td>magic's promise</td>\n",
       "      <td>[book, open, herald, mage, vanyel, returning, ...</td>\n",
       "    </tr>\n",
       "    <tr>\n",
       "      <th>4</th>\n",
       "      <td>4</td>\n",
       "      <td>taran wanderer</td>\n",
       "      <td>[taran, gurgi, returned, caer, dallben, follow...</td>\n",
       "    </tr>\n",
       "    <tr>\n",
       "      <th>...</th>\n",
       "      <td>...</td>\n",
       "      <td>...</td>\n",
       "      <td>...</td>\n",
       "    </tr>\n",
       "    <tr>\n",
       "      <th>2995</th>\n",
       "      <td>2995</td>\n",
       "      <td>white death</td>\n",
       "      <td>[novel, numa, file, kurt, austin, adventure, n...</td>\n",
       "    </tr>\n",
       "    <tr>\n",
       "      <th>2996</th>\n",
       "      <td>2996</td>\n",
       "      <td>venus with pistol</td>\n",
       "      <td>[gilbert, kemp, dealer, specializing, antique,...</td>\n",
       "    </tr>\n",
       "    <tr>\n",
       "      <th>2997</th>\n",
       "      <td>2997</td>\n",
       "      <td>blackwater</td>\n",
       "      <td>[know, deep, davey, always, lived, shadow, old...</td>\n",
       "    </tr>\n",
       "    <tr>\n",
       "      <th>2998</th>\n",
       "      <td>2998</td>\n",
       "      <td>the rainbow and the rose</td>\n",
       "      <td>[story, concern, life, johnnie, pascoe, retire...</td>\n",
       "    </tr>\n",
       "    <tr>\n",
       "      <th>2999</th>\n",
       "      <td>2999</td>\n",
       "      <td>chiefs</td>\n",
       "      <td>[first, chief, henry, lee, novel, open, 1919, ...</td>\n",
       "    </tr>\n",
       "  </tbody>\n",
       "</table>\n",
       "<p>3000 rows × 3 columns</p>\n",
       "</div>"
      ],
      "text/plain": [
       "      Doc_ID                  Book_Name  \\\n",
       "0          0          drowned wednesday   \n",
       "1          1              the lost hero   \n",
       "2          2  the eyes of the overworld   \n",
       "3          3            magic's promise   \n",
       "4          4             taran wanderer   \n",
       "...      ...                        ...   \n",
       "2995    2995                white death   \n",
       "2996    2996          venus with pistol   \n",
       "2997    2997                 blackwater   \n",
       "2998    2998   the rainbow and the rose   \n",
       "2999    2999                     chiefs   \n",
       "\n",
       "                                                Summary  \n",
       "0     [drowned, wednesday, first, trustee, among, mo...  \n",
       "1     [book, open, jason, awakens, school, bus, unab...  \n",
       "2     [cugel, easily, persuaded, merchant, fianosthe...  \n",
       "3     [book, open, herald, mage, vanyel, returning, ...  \n",
       "4     [taran, gurgi, returned, caer, dallben, follow...  \n",
       "...                                                 ...  \n",
       "2995  [novel, numa, file, kurt, austin, adventure, n...  \n",
       "2996  [gilbert, kemp, dealer, specializing, antique,...  \n",
       "2997  [know, deep, davey, always, lived, shadow, old...  \n",
       "2998  [story, concern, life, johnnie, pascoe, retire...  \n",
       "2999  [first, chief, henry, lee, novel, open, 1919, ...  \n",
       "\n",
       "[3000 rows x 3 columns]"
      ]
     },
     "execution_count": 448,
     "metadata": {},
     "output_type": "execute_result"
    }
   ],
   "source": [
    "from nltk.stem import WordNetLemmatizer\n",
    "def lemmatization_df(df_sw):\n",
    "    lemmatizer = WordNetLemmatizer()\n",
    "    df_lemmaztized=df_sw.copy()\n",
    "    for i in range(len(df_lemmaztized[\"Summary\"])):\n",
    "        df_lemmaztized['Summary'][i] = [lemmatizer.lemmatize(w) for w in df_sw[\"Summary\"][i]]\n",
    "    return df_lemmaztized\n",
    "df_lemmaztized=lemmatization_df(df_sw)\n",
    "df_lemmaztized"
   ]
  },
  {
   "cell_type": "code",
   "execution_count": 449,
   "metadata": {},
   "outputs": [
    {
     "name": "stdout",
     "output_type": "stream",
     "text": [
      "After Lemmatization : \n",
      " book open herald mage vanyel returning country valdemar extensive campaign along border karse neighboring enemy country check valdemar king randale lifebonded mate shavri daughter jisa select know jisa vanyel daughter king randale sterile asked vanyel father heir shavri confides vanyel fear randale mortally ill vanyel mentor savil return vanyel family home forst reach find little rest peace parent try change mind shay chern homosexual vanyel becomes somewhat confused sexuality wonder truly love shavri yfandes vanyel companion buy find situation amusing vanyel also meet illegitimate nephew medren medren small age vanyel like appears often bullied armsmaster jervis boy powerful bardic gift vanyel sponsor bardic collegium vanyel confronts jervis learns armsmaster intentionally rough also apologizes beating vanyel long ago explains difficult position vanyel father also mention knew vanyel shay chern beginning also knew army service gay keep men courageous warrior vanyel accepts form uneasy friendship main plot focus vanyel assist young prince tashir remoerdis vanyel yandes receive psychic summons neighboring country lineas upon arrival find tashir become herald companion leshya nicknamed ghost yfandes another herald lore beating child attack ghost try interfere belief tashir actually evil sorcerer murdered family vanyel immediately stop lore command return valdemar vanyel take tashir back home forst reach begin try discover truly happened tashir family return lineas disguised minstrel gather information lineas magic taboo one supposed perform reason share border baires country ruled mavelan family mages treaty signed end warring two country sealed marriage tashir parent treaty exists clause royal family lineas dy mavelan take lineas throne vice versa vanyel meet old servant remoerdis family tell tashir sad childhood tashir physically emotionally abused father sexually abused mother mother mentally unstable made seductive overture tashir even young child tashir look much like mother uncle vedric rumor product incestuous affair returning forst reach vanyel recruit savil jervis help together tashir return lineas breaking palace magic shield search place find secret room contains heart stone ordinary rock connected magical node keeping deep dangerous fault sealed stone unstable magic done area could disturb guardian family without magic appointed stone removed giant earthquake would occur destroying lineas part outlands border valdemar magic anathema lineas also everyone palace blood related member remoerdis family sworn protect node palace vanyel savil discover trap spell target one person also kill target entire family tashir family victim trap spell placed tashir uncle vedric whose intention control lineas baires however tashir father vedric try trick vanyel already caught sent savil away along tashir keeping jervis defending vanyel end killing baires family well vedric king baires lineas tashir considers young inexperienced allows king randale annex two smaller country valdemar vanyel finally sort actually gay shavri good friend \n",
      " 438\n"
     ]
    }
   ],
   "source": [
    "print(\"After Lemmatization : \\n\",\" \".join(df_lemmaztized[\"Summary\"][3]),\"\\n\",len(df_lemmaztized[\"Summary\"][3]))"
   ]
  },
  {
   "cell_type": "markdown",
   "metadata": {},
   "source": [
    "## Inverted Index"
   ]
  }
 ],
 "metadata": {
  "kernelspec": {
   "display_name": "Python 3 (ipykernel)",
   "language": "python",
   "name": "python3"
  },
  "language_info": {
   "codemirror_mode": {
    "name": "ipython",
    "version": 3
   },
   "file_extension": ".py",
   "mimetype": "text/x-python",
   "name": "python",
   "nbconvert_exporter": "python",
   "pygments_lexer": "ipython3",
   "version": "3.9.7"
  }
 },
 "nbformat": 4,
 "nbformat_minor": 2
}
